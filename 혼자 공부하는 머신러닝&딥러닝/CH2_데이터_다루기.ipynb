{
  "nbformat": 4,
  "nbformat_minor": 0,
  "metadata": {
    "colab": {
      "provenance": []
    },
    "kernelspec": {
      "name": "python3",
      "display_name": "Python 3"
    },
    "language_info": {
      "name": "python"
    }
  },
  "cells": [
    {
      "cell_type": "markdown",
      "source": [
        "# **02-1 훈련 세트와 테스트 세트**\n",
        "## **지도 학습과 비지도 학습**\n",
        "* **지도학습(Supervised Learning)**\n",
        "  * 지도학습은 훈련을 위한 데이터(**입력,input**)와 정답(**타깃, target**)를 전달하여 모델을 훈련한 다음 새로운 데이터를 예측하는 데 활용하는 것  \n",
        "    e.g. K-최근접 이웃 알고리즘\n",
        "    * **훈련 세트**: 모델을 훈련할 때 사용하는 데이터로, 보통 훈련 세트가 클수록 좋다. 따라서 테스트 데이터 세트를 제외한 모든 데이터를 사용\n",
        "    * **테스트 세트**: 전체 데이터에서 20~30%를 테스트 세트로 사용하는 경우가 많다. 전체 데이터가 아주 크다면 1%만 덜어내도 충분할 수 있다.\n",
        "  * 입력에는 데이터를 구분하기 위한 **특성(feature)**이 포함되며, 하나의 데이터를 **샘플(Sample)**이라고 부른다.  \n",
        "  e.g. 생선데이터의 한 샘플에는 길이와 무게 2개의 특성이 포함돼있다.  \n",
        "\n",
        "<center>\n",
        "\n",
        "||훈련데이터||\n",
        "|---:|---|:---:|\n",
        "|**입력**||**타깃**|\n",
        "|길이 특성| 무게 특성|\n",
        "|[[25.4, | 242.0],|[1,|\n",
        "|... | ...|...|\n",
        "|[15.0 | 19.9]]| 0]|\n",
        "\n",
        "</center>\n",
        "\n",
        "* **비지도학습(Unsupervised Learning)**\n",
        "  * 타깃 없이 입력데이터만을 가지고 학습 --> 입력 데이터만 있을 때에는 비지도 학습 알고리즘을 사용함\n",
        "  * 정답을 맞힐 수 없으나, 데이터를 파악하거나 변형하는 데 도움을 줌\n",
        "* **강화학습(Reinforcement Learning)**\n",
        "  * 타깃이 아니라 알고리즘이 행동한 결과로 얻은 보상을 사용해 학습\n",
        "\n",
        "## **훈련세트와 테스트세트**\n",
        "* 연습 문제와 시험 문제가 달라야 학생의 능력을 올바르게 평가할 수 있듯이, 머신러닝 알고리즘의 성능을 제대로 평가하려면 훈련데이터(**훈련세트**)와 평가에 사용되는 데이터(**테스트세트**)가 달라야 함\n",
        "  * 테스트세트를 준비하는 방법\n",
        "    * 평가를 위해 또 다른 데이터를 준비한다.\n",
        "    * **이미 준비된 데이터 중에서 일부를 떼어 내 활용한다. (이 경우가 일반적)**\n",
        "  * **샘플**: 하나의 데이터를 샘플이라고 하며, 여기서는 전체 49개의 생선 샘플이 있고, 사용하는 특성은 길이와 무게 2개이다."
      ],
      "metadata": {
        "id": "JCl5aSP8dcTv"
      }
    },
    {
      "cell_type": "code",
      "execution_count": null,
      "metadata": {
        "id": "8vLBO7xgdVJa"
      },
      "outputs": [],
      "source": [
        "# 1장에서처럼 도미와 빙어의 데이터를 합쳐 하나의 파이썬 리스트로 준비한다.\n",
        "fish_length = [25.4, 26.3, 26.5, 29.0, 29.0, 29.7, 29.7, 30.0, 30.0, 30.7, 31.0, 31.0,\n",
        "                31.5, 32.0, 32.0, 32.0, 33.0, 33.0, 33.5, 33.5, 34.0, 34.0, 34.5, 35.0,\n",
        "                35.0, 35.0, 35.0, 36.0, 36.0, 37.0, 38.5, 38.5, 39.5, 41.0, 41.0, 9.8,\n",
        "                10.5, 10.6, 11.0, 11.2, 11.3, 11.8, 11.8, 12.0, 12.2, 12.4, 13.0, 14.3, 15.0]\n",
        "fish_weight = [242.0, 290.0, 340.0, 363.0, 430.0, 450.0, 500.0, 390.0, 450.0, 500.0, 475.0, 500.0,\n",
        "                500.0, 340.0, 600.0, 600.0, 700.0, 700.0, 610.0, 650.0, 575.0, 685.0, 620.0, 680.0,\n",
        "                700.0, 725.0, 720.0, 714.0, 850.0, 1000.0, 920.0, 955.0, 925.0, 975.0, 950.0, 6.7,\n",
        "                7.5, 7.0, 9.7, 9.8, 8.7, 10.0, 9.9, 9.8, 12.2, 13.4, 12.2, 19.7, 19.9]"
      ]
    },
    {
      "cell_type": "code",
      "source": [
        "# 입력데이터와 타깃데이터를 만든다.\n",
        "# 이때 fish_data 전체 데이터에는 49개의 샘플이 포함된다.\n",
        "fish_data = [[l,w] for l,w in zip(fish_length,fish_weight)]\n",
        "fish_target = [1] * 35 + [0] * 14"
      ],
      "metadata": {
        "id": "P4Mfmxa8hq14"
      },
      "execution_count": null,
      "outputs": []
    },
    {
      "cell_type": "code",
      "source": [
        "import sklearn\n",
        "from sklearn.neighbors import KNeighborsClassifier\n",
        "kn = KNeighborsClassifier()"
      ],
      "metadata": {
        "id": "PJKjxz7HiiF0"
      },
      "execution_count": null,
      "outputs": []
    },
    {
      "cell_type": "code",
      "source": [
        "print(fish_data[0:5])"
      ],
      "metadata": {
        "colab": {
          "base_uri": "https://localhost:8080/"
        },
        "id": "vGZoY-QIhU29",
        "outputId": "521df36d-0309-484b-fa61-9e91097c921f"
      },
      "execution_count": null,
      "outputs": [
        {
          "output_type": "stream",
          "name": "stdout",
          "text": [
            "[[25.4, 242.0], [26.3, 290.0], [26.5, 340.0], [29.0, 363.0], [29.0, 430.0]]\n"
          ]
        }
      ]
    },
    {
      "cell_type": "code",
      "source": [
        "### 만든 입력데이터의 처음 35개 샘플만 훈련세트로 사용하기\n",
        "## 슬라이싱 연산으로 0~34까지 처음 35개의 샘플을 훈련 세트로 선택, 인덱스 35~48까지 14개의 샘플을 테스트 세트로 선택하기\n",
        "# 훈련 세트로 입력값 중 0부터 34번째 인덱스까지 사용\n",
        "train_input = fish_data[:35]\n",
        "# 훈련 세트로 타깃값 중 0부터 34번째 인덱스까지 사용\n",
        "train_target = fish_target[:35]\n",
        "# 테스트 세트의 입력값으로 입력값 중 35번째부터 마지막 인덱스까지 사용\n",
        "test_input = fish_data[35:]\n",
        "# 테스트 세트의 타깃으로 타깃값 중 35번째부터 마지막 인덱스까지 사용\n",
        "test_target = fish_target[35:]"
      ],
      "metadata": {
        "id": "mVxqnHhhmaOC"
      },
      "execution_count": null,
      "outputs": []
    },
    {
      "cell_type": "code",
      "source": [
        "# 모델 훈련하기\n",
        "kn.fit(train_input, train_target)\n",
        "# 모델의 정확도 평가\n",
        "kn.score(test_input, test_target)"
      ],
      "metadata": {
        "colab": {
          "base_uri": "https://localhost:8080/"
        },
        "id": "rxXh7f8inhoj",
        "outputId": "0dd15e6f-7f86-4c6b-d875-51e1f28ae425"
      },
      "execution_count": null,
      "outputs": [
        {
          "output_type": "execute_result",
          "data": {
            "text/plain": [
              "0.0"
            ]
          },
          "metadata": {},
          "execution_count": 6
        }
      ]
    },
    {
      "cell_type": "markdown",
      "source": [
        "## **샘플링 편향**\n",
        "* 정확도가 박살나지 않기 위해서는 훈련 세트와 테스트 세트를 나누기 전 두 가지 데이터가 골고루 섞이게 만들어야 함\n",
        "  * 즉, 훈련 세트와 테스트 세트 모두 도미와 빙어 데이터를 포함하고 있어야 함\n",
        "\n",
        "* **샘플링 편향(Sampling Bias)**: 훈련 세트와 테스트 세트에 샘플이 골고루 섞여 있지 않아서 샘플링이 한쪽으로 치우친 현상\n",
        "\n",
        "## **넘파이**\n",
        "* 파이썬의 대표적인 배열(array) 라이브러리로 많은 파이썬 과학 라이브러리에서 사용하는 표준 데이터\n",
        "* 파이썬 리스트로 고차원 리스트를 표현하려면 매우 번거로움 --> 넘파이는 고차원의 배열을 쉽게 만들고 조작할 수 있는 간편한 도구를 많이 제공\n",
        "  * 1차월 배열: 선\n",
        "  * 2차원 배열: 면\n",
        "  * 3차원 배열: 3차원 공간\n",
        "* array는 왼쪽 위에서부터 배열이 시작됨\n",
        "* 사이킷런 모델의 입력과 출력은 모두 넘파이 배열\n",
        "* 데이터가 아주 큰 경우 파이썬 리스트로 작업하는 것은 비효율적이므로, 데이터가 클수록 넘파이 배열을 사용하는 것이 좋음"
      ],
      "metadata": {
        "id": "byuTNrF1pfCq"
      }
    },
    {
      "cell_type": "code",
      "source": [
        "## 생선 데이터를 2차원 넘파이 배열로 변환하기\n",
        "# 넘파이 라이브러리 임포트\n",
        "import numpy as np"
      ],
      "metadata": {
        "id": "Pbk0WVx1q66t"
      },
      "execution_count": null,
      "outputs": []
    },
    {
      "cell_type": "code",
      "source": [
        "# array() 함수를 이용하여 파이썬 리스트를 넘파이 배열로 바꾸기\n",
        "input_arr = np.array(fish_data)\n",
        "target_arr = np.array(fish_target)\n",
        "# 49개의 행과 2개의 열이 출력됨\n",
        "print(input_arr)"
      ],
      "metadata": {
        "colab": {
          "base_uri": "https://localhost:8080/"
        },
        "id": "Fn9TBu-SrHa1",
        "outputId": "1eccbfa4-e2bb-4aa5-9138-33b06ca34522"
      },
      "execution_count": null,
      "outputs": [
        {
          "output_type": "stream",
          "name": "stdout",
          "text": [
            "[[  25.4  242. ]\n",
            " [  26.3  290. ]\n",
            " [  26.5  340. ]\n",
            " [  29.   363. ]\n",
            " [  29.   430. ]\n",
            " [  29.7  450. ]\n",
            " [  29.7  500. ]\n",
            " [  30.   390. ]\n",
            " [  30.   450. ]\n",
            " [  30.7  500. ]\n",
            " [  31.   475. ]\n",
            " [  31.   500. ]\n",
            " [  31.5  500. ]\n",
            " [  32.   340. ]\n",
            " [  32.   600. ]\n",
            " [  32.   600. ]\n",
            " [  33.   700. ]\n",
            " [  33.   700. ]\n",
            " [  33.5  610. ]\n",
            " [  33.5  650. ]\n",
            " [  34.   575. ]\n",
            " [  34.   685. ]\n",
            " [  34.5  620. ]\n",
            " [  35.   680. ]\n",
            " [  35.   700. ]\n",
            " [  35.   725. ]\n",
            " [  35.   720. ]\n",
            " [  36.   714. ]\n",
            " [  36.   850. ]\n",
            " [  37.  1000. ]\n",
            " [  38.5  920. ]\n",
            " [  38.5  955. ]\n",
            " [  39.5  925. ]\n",
            " [  41.   975. ]\n",
            " [  41.   950. ]\n",
            " [   9.8    6.7]\n",
            " [  10.5    7.5]\n",
            " [  10.6    7. ]\n",
            " [  11.     9.7]\n",
            " [  11.2    9.8]\n",
            " [  11.3    8.7]\n",
            " [  11.8   10. ]\n",
            " [  11.8    9.9]\n",
            " [  12.     9.8]\n",
            " [  12.2   12.2]\n",
            " [  12.4   13.4]\n",
            " [  13.    12.2]\n",
            " [  14.3   19.7]\n",
            " [  15.    19.9]]\n"
          ]
        }
      ]
    },
    {
      "cell_type": "code",
      "source": [
        "# shape 속성으로 배열의 크기(샘플 수, 특성 수) 알아내기\n",
        "print(input_arr.shape)"
      ],
      "metadata": {
        "colab": {
          "base_uri": "https://localhost:8080/"
        },
        "id": "JO9XZpC4ryli",
        "outputId": "e7da5dd6-bb66-4f97-e3a1-bdf438dea368"
      },
      "execution_count": null,
      "outputs": [
        {
          "output_type": "stream",
          "name": "stdout",
          "text": [
            "(49, 2)\n"
          ]
        }
      ]
    },
    {
      "cell_type": "markdown",
      "source": [
        "> `seed()`: 난수를 생성하기 위한 정수 초깃값을 지정한다. 초기값이 같으면 동일한 난수를 추출할 수 있으며, 따라서 랜덤 함수의 결과를 동일하게 재현하고 싶을 때 사용합니다."
      ],
      "metadata": {
        "id": "F-R1ZfNNqAeA"
      }
    },
    {
      "cell_type": "code",
      "source": [
        "## 배열에서 랜덤하게 샘플을 선택하기\n",
        "# 인덱스를 이용해 input_arr와 target_arr에서 같은 위치는 함께 선택되어 타깃이 샘플과 함깨 이동하게 한다.\n",
        "# 인덱스를 섞은 다음 이 인덱스를 이용해 input_arr와 target_arr에서 샘플을 선택하면 무작위로 훈련 세트를 나눌 수 있다.\n",
        "np.random.seed(42) # 코드를 돌릴 때마다 동일한 결과가 나올 수 있도록 시드 설정하기"
      ],
      "metadata": {
        "id": "JzHGmUGvqZnF"
      },
      "execution_count": null,
      "outputs": []
    },
    {
      "cell_type": "markdown",
      "source": [
        "> `arange(start = 0, end, step = 1)`: 일정한 간격의 정수를 0 ~ 종료 숫자까지 실수 배열을 만든다."
      ],
      "metadata": {
        "id": "9rVBDETkqqBI"
      }
    },
    {
      "cell_type": "code",
      "source": [
        "# 넘파이의 arange() 함수를 사용하여 0 ~ 48의 1씩 증가하는 배열을 만든다.\n",
        "index = np.arange(49)"
      ],
      "metadata": {
        "id": "Vve8M5nTr8rQ"
      },
      "execution_count": null,
      "outputs": []
    },
    {
      "cell_type": "markdown",
      "source": [
        "> `shuffle()`: 주어진 배열을 랜덤하게 섞는다. 다차원 배열일 경우 첫 번째 축(행)에 대해서만 섞는다."
      ],
      "metadata": {
        "id": "EgCj5OanrRuT"
      }
    },
    {
      "cell_type": "code",
      "source": [
        "# 넘파이 random 패키지 아래의 shuffle() 함수는 주어진 배열을 무작위로 섞는다.\n",
        "np.random.shuffle(index)"
      ],
      "metadata": {
        "id": "Cn3dwtlnqfHx"
      },
      "execution_count": null,
      "outputs": []
    },
    {
      "cell_type": "code",
      "source": [
        "# 만들어진 index 출력\n",
        "print(index)"
      ],
      "metadata": {
        "colab": {
          "base_uri": "https://localhost:8080/"
        },
        "id": "QHsL4VRaqcmL",
        "outputId": "a4fdde6b-4dbb-4697-bd41-5e8194382b11"
      },
      "execution_count": null,
      "outputs": [
        {
          "output_type": "stream",
          "name": "stdout",
          "text": [
            "[13 45 47 44 17 27 26 25 31 19 12  4 34  8  3  6 40 41 46 15  9 16 24 33\n",
            " 30  0 43 32  5 29 11 36  1 21  2 37 35 23 39 10 22 18 48 20  7 42 14 28\n",
            " 38]\n"
          ]
        }
      ]
    },
    {
      "cell_type": "code",
      "source": [
        "# 넘파이의 배열 인덱싱(array indexing)을 이용해 한 번에 여러개의 인덱스 선택하기\n",
        "print(input_arr[[1,3]])"
      ],
      "metadata": {
        "colab": {
          "base_uri": "https://localhost:8080/"
        },
        "id": "BjSAJFgIuYH-",
        "outputId": "e79b4942-2319-40a4-fbd2-16fe42737807"
      },
      "execution_count": null,
      "outputs": [
        {
          "output_type": "stream",
          "name": "stdout",
          "text": [
            "[[ 26.3 290. ]\n",
            " [ 29.  363. ]]\n"
          ]
        }
      ]
    },
    {
      "cell_type": "code",
      "source": [
        "# 앞서 만든 index 배열의 처음 35개를 input_arr와 target_arr에 전달하여 랜덤한 35개 샘플을 포함한 훈련 세트를 만든다.\n",
        "train_input = input_arr[index[:35]]\n",
        "train_target = target_arr[index[:35]]"
      ],
      "metadata": {
        "id": "Rv4O556GvhvE"
      },
      "execution_count": null,
      "outputs": []
    },
    {
      "cell_type": "code",
      "source": [
        "# index의 첫번째 원소인 13이 input_arr[13]의 인덱스로 들어갔으므로, input_arr의 열네번째 원소가 출력된다.\n",
        "print(input_arr[13],train_input[0])"
      ],
      "metadata": {
        "colab": {
          "base_uri": "https://localhost:8080/"
        },
        "id": "MtY5YsTkv84_",
        "outputId": "26c5f210-5777-4c88-adb4-22ab37b64610"
      },
      "execution_count": null,
      "outputs": [
        {
          "output_type": "stream",
          "name": "stdout",
          "text": [
            "[ 32. 340.] [ 32. 340.]\n"
          ]
        }
      ]
    },
    {
      "cell_type": "code",
      "source": [
        "# 나머지 14개를 테스트 세트로 만든다.\n",
        "test_input = input_arr[index[35:]]\n",
        "test_target = target_arr[index[35:]]\n",
        "np.shape(test_input)"
      ],
      "metadata": {
        "id": "3u_C4_1twTJi",
        "colab": {
          "base_uri": "https://localhost:8080/"
        },
        "outputId": "f8d049f2-c7e6-4f7f-86f3-6066b8370d41"
      },
      "execution_count": null,
      "outputs": [
        {
          "output_type": "execute_result",
          "data": {
            "text/plain": [
              "(14, 2)"
            ]
          },
          "metadata": {},
          "execution_count": 17
        }
      ]
    },
    {
      "cell_type": "code",
      "source": [
        "# 훈련 세트와 테스트 세트에 도미와 빙어가 잘 섞여 있는지 산점도로 확인해본다.\n",
        "import matplotlib.pyplot as plt\n",
        "plt.scatter([x[0] for x in train_input], [x[1] for x in train_input], label = \"train dataset\")\n",
        "plt.scatter([x[0] for x in test_input], [x[1] for x in test_input], label = \"test dataset\")\n",
        "plt.xlabel(\"length\")\n",
        "plt.ylabel(\"weight\")\n",
        "plt.title(\"Train dataset and Test dataset\")\n",
        "plt.legend()\n",
        "plt.show()"
      ],
      "metadata": {
        "colab": {
          "base_uri": "https://localhost:8080/",
          "height": 472
        },
        "id": "qonPILxqxE2C",
        "outputId": "24ac56ac-cb98-4042-f7b0-d974202a579b"
      },
      "execution_count": null,
      "outputs": [
        {
          "output_type": "display_data",
          "data": {
            "text/plain": [
              "<Figure size 640x480 with 1 Axes>"
            ],
            "image/png": "[encoded data removed]"
          },
          "metadata": {}
        }
      ]
    },
    {
      "cell_type": "markdown",
      "source": [
        "## **두 번째 머신러닝 프로그램**\n",
        "* 훈련 세트와 테스트 데이터 세트로 k-최근접 이웃 모델 훈련시키기\n",
        "  * `fit()` 메소드는 실행할 때마다 KNeighborsClassifier 클래스 객체는 이전에 학습한 모든 것을 잃어버리므로 그전 모델을 그대로 놔두고 싶다면 새로운 객체를 생성해야 함"
      ],
      "metadata": {
        "id": "9BZZCayIl7YJ"
      }
    },
    {
      "cell_type": "code",
      "source": [
        "# 여기서는 그냥 그전 모델을 사용하자\n",
        "kn = kn.fit(train_input, train_target)"
      ],
      "metadata": {
        "id": "pH2hJ5cfgSqq"
      },
      "execution_count": null,
      "outputs": []
    },
    {
      "cell_type": "code",
      "source": [
        "kn.score(test_input, test_target)"
      ],
      "metadata": {
        "colab": {
          "base_uri": "https://localhost:8080/"
        },
        "id": "_J0aQoQXmhSL",
        "outputId": "e58210e3-91ed-4ef7-fadd-63c39990713b"
      },
      "execution_count": null,
      "outputs": [
        {
          "output_type": "execute_result",
          "data": {
            "text/plain": [
              "1.0"
            ]
          },
          "metadata": {},
          "execution_count": 20
        }
      ]
    },
    {
      "cell_type": "code",
      "source": [
        "# predict() 메소드로 테스트 세트의 예측 결과와 실제 타깃을 비교해보기\n",
        "# kn의 예측결과 (넘파이 배열로 반환한다)\n",
        "kn.predict(test_input)"
      ],
      "metadata": {
        "colab": {
          "base_uri": "https://localhost:8080/"
        },
        "id": "AK-8oqbSmlKd",
        "outputId": "14ada422-fecd-4b92-9cef-c2f454c9974a"
      },
      "execution_count": null,
      "outputs": [
        {
          "output_type": "execute_result",
          "data": {
            "text/plain": [
              "array([0, 0, 1, 0, 1, 1, 1, 0, 1, 1, 0, 1, 1, 0])"
            ]
          },
          "metadata": {},
          "execution_count": 21
        }
      ]
    },
    {
      "cell_type": "code",
      "source": [
        "# 실제 타깃\n",
        "test_target"
      ],
      "metadata": {
        "colab": {
          "base_uri": "https://localhost:8080/"
        },
        "id": "HYx1t26tmwz7",
        "outputId": "0fe86916-bfba-4b57-96d8-830cd3630e4b"
      },
      "execution_count": null,
      "outputs": [
        {
          "output_type": "execute_result",
          "data": {
            "text/plain": [
              "array([0, 0, 1, 0, 1, 1, 1, 0, 1, 1, 0, 1, 1, 0])"
            ]
          },
          "metadata": {},
          "execution_count": 22
        }
      ]
    },
    {
      "cell_type": "markdown",
      "source": [
        "# **02-2 데이터 전처리**\n",
        "* 올바른 결과 도출을 위해서 데이터를 사용하기 전에 데이터 전처리 과저을 거칩니다. 전처리 과정을 거친 데이터로 훈련했을 때의 차이를 알고 표준점수로 특성의 스케일을 변환하는 방법을 배웁니다.\n",
        "\n",
        "* **데이터 전처리**: 머신러닝 모델에 훈련 데이터를 주입하기 전에 가공하는 단계를 말합니다. 때로는 데이터 전처리에 많은 시간이 소모되기도 합니다."
      ],
      "metadata": {
        "id": "Ct_WMsgUsBzV"
      }
    },
    {
      "cell_type": "markdown",
      "source": [
        "### **넘파이로 데이터 준비하기**\n",
        " > `column_stack()`: 전달받은 리스트를 일렬로 세운 다음 차례대로 나란히 연결합니다. 연결할 리스트는 파이썬 튜플로 전달합니다."
      ],
      "metadata": {
        "id": "qTDhp8hLsdU1"
      }
    },
    {
      "cell_type": "code",
      "source": [
        "fish_length = [25.4, 26.3, 26.5, 29.0, 29.0, 29.7, 29.7, 30.0, 30.0, 30.7, 31.0, 31.0,\n",
        "                31.5, 32.0, 32.0, 32.0, 33.0, 33.0, 33.5, 33.5, 34.0, 34.0, 34.5, 35.0,\n",
        "                35.0, 35.0, 35.0, 36.0, 36.0, 37.0, 38.5, 38.5, 39.5, 41.0, 41.0, 9.8,\n",
        "                10.5, 10.6, 11.0, 11.2, 11.3, 11.8, 11.8, 12.0, 12.2, 12.4, 13.0, 14.3, 15.0]\n",
        "fish_weight = [242.0, 290.0, 340.0, 363.0, 430.0, 450.0, 500.0, 390.0, 450.0, 500.0, 475.0, 500.0,\n",
        "                500.0, 340.0, 600.0, 600.0, 700.0, 700.0, 610.0, 650.0, 575.0, 685.0, 620.0, 680.0,\n",
        "                700.0, 725.0, 720.0, 714.0, 850.0, 1000.0, 920.0, 955.0, 925.0, 975.0, 950.0, 6.7,\n",
        "                7.5, 7.0, 9.7, 9.8, 8.7, 10.0, 9.9, 9.8, 12.2, 13.4, 12.2, 19.7, 19.9]"
      ],
      "metadata": {
        "id": "98fWJmCnsc-4"
      },
      "execution_count": null,
      "outputs": []
    },
    {
      "cell_type": "code",
      "source": [
        "# column_stack() 사용해보기\n",
        "np.column_stack(([1, 2, 3], [4, 5, 6]))"
      ],
      "metadata": {
        "colab": {
          "base_uri": "https://localhost:8080/"
        },
        "id": "XGOjPfuBmyvN",
        "outputId": "2146d5f6-6bd0-4766-bddc-4eb4753e3f33"
      },
      "execution_count": null,
      "outputs": [
        {
          "output_type": "execute_result",
          "data": {
            "text/plain": [
              "array([[1, 4],\n",
              "       [2, 5],\n",
              "       [3, 6]])"
            ]
          },
          "metadata": {},
          "execution_count": 24
        }
      ]
    },
    {
      "cell_type": "code",
      "source": [
        "fish_data = np.column_stack((fish_length, fish_weight))"
      ],
      "metadata": {
        "id": "IPzrLq7EtJq5"
      },
      "execution_count": null,
      "outputs": []
    },
    {
      "cell_type": "code",
      "source": [
        "print(fish_data[:5])"
      ],
      "metadata": {
        "colab": {
          "base_uri": "https://localhost:8080/"
        },
        "id": "6za2bxrntRZV",
        "outputId": "11346543-6854-4e1a-8ce2-c8fd39c9029c"
      },
      "execution_count": null,
      "outputs": [
        {
          "output_type": "stream",
          "name": "stdout",
          "text": [
            "[[ 25.4 242. ]\n",
            " [ 26.3 290. ]\n",
            " [ 26.5 340. ]\n",
            " [ 29.  363. ]\n",
            " [ 29.  430. ]]\n"
          ]
        }
      ]
    },
    {
      "cell_type": "markdown",
      "source": [
        "> `np.ones()`, `np.zeros()`: 각각 원하는 개수의 1과 0을 채운 배열을 만들어 줍니다.  \n",
        "> `np.concatenate()`: 첫 번째 차원(행)을 따라 배열을 연결해줍니다."
      ],
      "metadata": {
        "id": "EvLHEIO8tdrT"
      }
    },
    {
      "cell_type": "code",
      "source": [
        "print(np.ones(5))"
      ],
      "metadata": {
        "colab": {
          "base_uri": "https://localhost:8080/"
        },
        "id": "KTq2rycbtVZG",
        "outputId": "afd416a6-f438-40bc-87d8-9543dafa889d"
      },
      "execution_count": null,
      "outputs": [
        {
          "output_type": "stream",
          "name": "stdout",
          "text": [
            "[1. 1. 1. 1. 1.]\n"
          ]
        }
      ]
    },
    {
      "cell_type": "code",
      "source": [
        "fish_target = np.concatenate((np.ones(35), np.zeros(14)))"
      ],
      "metadata": {
        "id": "uxy3XG73uE21"
      },
      "execution_count": null,
      "outputs": []
    },
    {
      "cell_type": "code",
      "source": [
        "print(fish_target)"
      ],
      "metadata": {
        "colab": {
          "base_uri": "https://localhost:8080/"
        },
        "id": "5pMBCZ5PuKrl",
        "outputId": "585cd2df-c845-475d-c0b5-d10c391b760b"
      },
      "execution_count": null,
      "outputs": [
        {
          "output_type": "stream",
          "name": "stdout",
          "text": [
            "[1. 1. 1. 1. 1. 1. 1. 1. 1. 1. 1. 1. 1. 1. 1. 1. 1. 1. 1. 1. 1. 1. 1. 1.\n",
            " 1. 1. 1. 1. 1. 1. 1. 1. 1. 1. 1. 0. 0. 0. 0. 0. 0. 0. 0. 0. 0. 0. 0. 0.\n",
            " 0.]\n"
          ]
        }
      ]
    },
    {
      "cell_type": "markdown",
      "source": [
        "## **사이킷런으로 훈련 세트와 테스트 세트 나누기**\n",
        "> `train_test_split()`: 사이킷런의 model_selection 모듈 아래에 있음\n",
        "* 나누고 싶은 리스트나 배열을 원하는 만큼 전달하면 됨"
      ],
      "metadata": {
        "id": "YR-r1XRDvEX_"
      }
    },
    {
      "cell_type": "code",
      "source": [
        "from sklearn.model_selection import train_test_split"
      ],
      "metadata": {
        "id": "IuzjXW2hungb"
      },
      "execution_count": null,
      "outputs": []
    },
    {
      "cell_type": "code",
      "source": [
        "# fish_data와 fish_target을 train set과 test set으로 나누기\n",
        "# random_state = 초기값 설정\n",
        "# default로 25%를 test set로 떼어낸다.\n",
        "train_input, test_input, train_target, test_target = train_test_split(fish_data, fish_target, random_state = 42)"
      ],
      "metadata": {
        "id": "bkg3cb-QvmMh"
      },
      "execution_count": null,
      "outputs": []
    },
    {
      "cell_type": "code",
      "source": [
        "# input 데이터는 2개의 열이 있는 2차원 배열\n",
        "print(train_input.shape, test_input.shape)"
      ],
      "metadata": {
        "colab": {
          "base_uri": "https://localhost:8080/"
        },
        "id": "95CDUbolv7bz",
        "outputId": "a12193fe-9fb9-4c12-dc47-02c357491411"
      },
      "execution_count": null,
      "outputs": [
        {
          "output_type": "stream",
          "name": "stdout",
          "text": [
            "(36, 2) (13, 2)\n"
          ]
        }
      ]
    },
    {
      "cell_type": "code",
      "source": [
        "# target 데이터는 1차원 배열\n",
        "print(train_target.shape, test_target.shape)"
      ],
      "metadata": {
        "colab": {
          "base_uri": "https://localhost:8080/"
        },
        "id": "XApeVLSGwpDj",
        "outputId": "64d17634-2f09-4473-d98d-da982a939eb4"
      },
      "execution_count": null,
      "outputs": [
        {
          "output_type": "stream",
          "name": "stdout",
          "text": [
            "(36,) (13,)\n"
          ]
        }
      ]
    },
    {
      "cell_type": "code",
      "source": [
        "# 도미와 빙어가 잘 섞였는지 테스트 데이터를 출력\n",
        "print(test_target)"
      ],
      "metadata": {
        "colab": {
          "base_uri": "https://localhost:8080/"
        },
        "id": "qc1rn1WMw7hO",
        "outputId": "4e5813aa-a744-41da-9ae5-ec412a046a94"
      },
      "execution_count": null,
      "outputs": [
        {
          "output_type": "stream",
          "name": "stdout",
          "text": [
            "[1. 0. 0. 0. 1. 1. 1. 1. 1. 1. 1. 1. 1.]\n"
          ]
        }
      ]
    },
    {
      "cell_type": "markdown",
      "source": [
        "* 무작위로 데이터를 나누어도 샘플이 골고루 섞이지 않을 수 있음 (특히 일부 클래스의 데이터 개수가 적을 때)\n",
        "* 이런 경우, 모델이 일부 샘플을 올바르게 학습할 수 없음\n",
        "* `train_test_split()` 함수는 `stratify` 매개변수에 타겟 데이터를 전달하여 클래스 비율에 맞게 데이터를 나눠줄 수 있음"
      ],
      "metadata": {
        "id": "uSpL9W08xLuK"
      }
    },
    {
      "cell_type": "code",
      "source": [
        "# stratify에 target 데이터 전달\n",
        "train_input, test_input, train_target, test_target = train_test_split(fish_data, fish_target, random_state = 42, stratify = fish_target)"
      ],
      "metadata": {
        "id": "22YaiGBzxFPy"
      },
      "execution_count": null,
      "outputs": []
    },
    {
      "cell_type": "code",
      "source": [
        "print(test_target)"
      ],
      "metadata": {
        "colab": {
          "base_uri": "https://localhost:8080/"
        },
        "id": "nEigDU5cyv6D",
        "outputId": "7574e98f-0269-4893-b919-07c8150086ee"
      },
      "execution_count": null,
      "outputs": [
        {
          "output_type": "stream",
          "name": "stdout",
          "text": [
            "[0. 0. 1. 0. 1. 0. 1. 1. 1. 1. 1. 1. 1.]\n"
          ]
        }
      ]
    },
    {
      "cell_type": "markdown",
      "source": [
        "## **수상한 도미 한 마리**\n",
        "* 앞에서 준비한 데이터로 k-최근접 이웃을 훈련해 보겠습니다. 1장에서 했던 것과 동일합니다. 훈련 데이터로 모델을 훈련하고 테스트 데이터로 모델을 평가합니다."
      ],
      "metadata": {
        "id": "FKH09z8Ky1Jz"
      }
    },
    {
      "cell_type": "code",
      "source": [
        "kn.fit(train_input, train_target)\n",
        "kn.score(test_input, test_target)"
      ],
      "metadata": {
        "colab": {
          "base_uri": "https://localhost:8080/"
        },
        "id": "JsIFfoaPyyFM",
        "outputId": "618401c5-f297-40d9-b579-5a68c619094d"
      },
      "execution_count": null,
      "outputs": [
        {
          "output_type": "execute_result",
          "data": {
            "text/plain": [
              "1.0"
            ]
          },
          "metadata": {},
          "execution_count": 37
        }
      ]
    },
    {
      "cell_type": "markdown",
      "source": [
        "* 다른 도미 데이터[[25, 150]]를 넣고 결과를 확인해보자!"
      ],
      "metadata": {
        "id": "pCoQIu_Yzn_5"
      }
    },
    {
      "cell_type": "code",
      "source": [
        "print(kn.predict([[25, 150]]))"
      ],
      "metadata": {
        "colab": {
          "base_uri": "https://localhost:8080/"
        },
        "id": "WSE8ntMqzi3i",
        "outputId": "b8c54cc5-6cab-401f-c8e2-cc1f7b78a572"
      },
      "execution_count": null,
      "outputs": [
        {
          "output_type": "stream",
          "name": "stdout",
          "text": [
            "[0.]\n"
          ]
        }
      ]
    },
    {
      "cell_type": "code",
      "source": [
        "# 잉? 도미가 아니라 빙어로 예측하였다. 이를 산점도로 확인해보자.\n",
        "plt.scatter(train_input[:,0], train_input[:,1], label = \"Train\")\n",
        "plt.scatter(25, 150, marker = \"^\")\n",
        "plt.xlabel(\"length\")\n",
        "plt.ylabel(\"weight\")\n",
        "plt.title(\"Prediction of [25, 150]\")\n",
        "plt.legend(loc = \"best\")\n",
        "plt.show()"
      ],
      "metadata": {
        "colab": {
          "base_uri": "https://localhost:8080/",
          "height": 472
        },
        "id": "vkpXcJe-zv86",
        "outputId": "644c163e-5ea2-4e0d-d0a9-cbb6a661cbfb"
      },
      "execution_count": null,
      "outputs": [
        {
          "output_type": "display_data",
          "data": {
            "text/plain": [
              "<Figure size 640x480 with 1 Axes>"
            ],
            "image/png": "[encoded data removed]"
          },
          "metadata": {}
        }
      ]
    },
    {
      "cell_type": "markdown",
      "source": [
        "* 왜 이 모델은 왼쪽 아래에 낮게 깔린 빙어 데이터에 더 가깝다고 판단한걸까? 이 샘플의 주변 샘플을 알아보자.\n",
        "> `.kneighbors(data, return_distance = True)`: 입력한 데이터에 가장 가까운 이웃까지의 거리와 이웃 샘플의 인덱스를 반환"
      ],
      "metadata": {
        "id": "jSLks_RW0w-6"
      }
    },
    {
      "cell_type": "code",
      "source": [
        "distances, indexes = kn.kneighbors([[25, 150]])"
      ],
      "metadata": {
        "id": "gDDYX5dw0NOt"
      },
      "execution_count": null,
      "outputs": []
    },
    {
      "cell_type": "code",
      "source": [
        "# 훈련 데이터 중에 [25 ,150]의 이웃 샘플을 따로 구분해 그려보자\n",
        "plt.scatter(train_input[:,0], train_input[:,1], label = \"Train\")\n",
        "plt.scatter(25, 150, marker = \"^\")\n",
        "plt.scatter(train_input[indexes,0], train_input[indexes,1], marker = 'D')\n",
        "plt.xlabel(\"length\")\n",
        "plt.ylabel(\"weight\")\n",
        "plt.title(\"Prediction of [25, 150]\")\n",
        "plt.legend(loc = \"best\")\n",
        "plt.show()"
      ],
      "metadata": {
        "colab": {
          "base_uri": "https://localhost:8080/",
          "height": 472
        },
        "id": "q-E4e7701cEt",
        "outputId": "35cc2f01-a9a0-427b-b0f6-eb62f169b152"
      },
      "execution_count": null,
      "outputs": [
        {
          "output_type": "display_data",
          "data": {
            "text/plain": [
              "<Figure size 640x480 with 1 Axes>"
            ],
            "image/png": "[encoded data removed]"
          },
          "metadata": {}
        }
      ]
    },
    {
      "cell_type": "code",
      "source": [
        "print(train_input[indexes])"
      ],
      "metadata": {
        "colab": {
          "base_uri": "https://localhost:8080/"
        },
        "id": "9bOLPiwetv8i",
        "outputId": "fd3368ee-9cac-45c6-e800-8d69917867e4"
      },
      "execution_count": null,
      "outputs": [
        {
          "output_type": "stream",
          "name": "stdout",
          "text": [
            "[[[ 25.4 242. ]\n",
            "  [ 15.   19.9]\n",
            "  [ 14.3  19.7]\n",
            "  [ 13.   12.2]\n",
            "  [ 12.2  12.2]]]\n"
          ]
        }
      ]
    },
    {
      "cell_type": "code",
      "source": [
        "print(train_target[indexes])"
      ],
      "metadata": {
        "id": "Ng3k-U5B2AfO",
        "colab": {
          "base_uri": "https://localhost:8080/"
        },
        "outputId": "f32e24d1-7ce5-4439-ee8e-4a8258f9b08a"
      },
      "execution_count": null,
      "outputs": [
        {
          "output_type": "stream",
          "name": "stdout",
          "text": [
            "[[1. 0. 0. 0. 0.]]\n"
          ]
        }
      ]
    },
    {
      "cell_type": "markdown",
      "source": [
        "* 이웃 샘플 5개 중 4개는 빙어다. 하지만 plot으로 보면 도미에 더 가까운 것 같은데? 이번에는 distances 배열을 출력해보자."
      ],
      "metadata": {
        "id": "rpOYpdIptr4N"
      }
    },
    {
      "cell_type": "code",
      "source": [
        "print(distances)"
      ],
      "metadata": {
        "colab": {
          "base_uri": "https://localhost:8080/"
        },
        "id": "A-y_Yg3KuHl1",
        "outputId": "ad59948a-e7d2-40e3-9564-a2002bbad46d"
      },
      "execution_count": null,
      "outputs": [
        {
          "output_type": "stream",
          "name": "stdout",
          "text": [
            "[[ 92.00086956 130.48375378 130.73859415 138.32150953 138.39320793]]\n"
          ]
        }
      ]
    },
    {
      "cell_type": "markdown",
      "source": [
        "## **기준을 맞춰라**\n",
        "* 거리가 92와 130이라고 하면 그래프상으로 거리의 비율이 이상하다. 어림짐작으로도 92의 거리보다 족히 몇 배는 되어 보인느데 겨우 거리가 130이다.  \n",
        "==> **그래프의 x축의 범위는 좁지만 (10 ~ 40)이고, y축의 범위는 넓다 (0~1000). 따라서 y축으로 조금만 멀어져도 거리가 아주 큰 값으로 계산된다.**\n",
        "\n",
        "* x축의 범위를 동일하게 0 ~ 1,000으로 맞추어 보자"
      ],
      "metadata": {
        "id": "COkiFDWeuNvU"
      }
    },
    {
      "cell_type": "code",
      "source": [
        "plt.scatter(train_input[:,0], train_input[:,1], label = \"Train\")\n",
        "plt.scatter(25, 150, marker = \"^\")\n",
        "plt.scatter(train_input[indexes,0], train_input[indexes,1], marker = 'D')\n",
        "plt.xlabel(\"length\")\n",
        "plt.ylabel(\"weight\")\n",
        "plt.xlim((0,1000))\n",
        "plt.title(\"Prediction of [25, 150]\")\n",
        "plt.legend(loc = \"best\")\n",
        "plt.show()"
      ],
      "metadata": {
        "colab": {
          "base_uri": "https://localhost:8080/",
          "height": 472
        },
        "id": "u_mKFgD9uI09",
        "outputId": "ed781b0a-33d2-4252-fb52-fff1a7a1c68a"
      },
      "execution_count": null,
      "outputs": [
        {
          "output_type": "display_data",
          "data": {
            "text/plain": [
              "<Figure size 640x480 with 1 Axes>"
            ],
            "image/png": "[encoded data removed]"
          },
          "metadata": {}
        }
      ]
    },
    {
      "cell_type": "markdown",
      "source": [
        "* 생선의 길이는 가장 가까운 이웃을 찾는데 크게 영향을 미치지 못한다. 오로지 생선의 무게만 고려 대상이 됨  \n",
        "==>  데이터를 표현하는 기준이 다르면 알고리즘(특히 거리 기반 알고리즘)이 올바르게 예측할 수 없다.\n",
        "  * **스케일(scale)**: 두 특성의 값이 놓인 범위.\n",
        "  * **데이터 전처리(data preprocessing)**: 특성값을 일정한 기준으로 맞춰주는 것\n",
        "  * **분산(Variance)**: 데이터가 분산된 정도  \n",
        "\\begin{align}\n",
        "{variance = {\\sum{(data - mean)^2}\\over{n}}}\n",
        "\\end{align}\n",
        "  \n",
        "\\begin{align}\n",
        "{std = {\\sqrt{variance}}}\n",
        "\\end{align}\n",
        "  * **표준 점수(standard data)**: 각 특성값이 평균에서 표준편차의 몇 배만큼 떨어져 있는지를 나타내는 점수  \n",
        "\\begin{align}\n",
        "{Z = {{data - mean} \\over{std}}}\n",
        "\\end{align}"
      ],
      "metadata": {
        "id": "DyKeq8-s3Z5i"
      }
    },
    {
      "cell_type": "code",
      "source": [
        "# 평균 계산하기 (각 특성(열) 별로, axis = 0)\n",
        "mean = np.mean(train_input, axis = 0)\n",
        "# 표준편차 계산하기\n",
        "std = np.std(train_input, axis = 0)\n",
        "print(mean,std)"
      ],
      "metadata": {
        "id": "a6WzfUMw3OiO",
        "colab": {
          "base_uri": "https://localhost:8080/"
        },
        "outputId": "ca320110-f6cf-4244-f273-d8df0175f068"
      },
      "execution_count": null,
      "outputs": [
        {
          "output_type": "stream",
          "name": "stdout",
          "text": [
            "[ 27.29722222 454.09722222] [  9.98244253 323.29893931]\n"
          ]
        }
      ]
    },
    {
      "cell_type": "markdown",
      "source": [
        "* **브로드 캐스팅(broad casting)**: 크기가 다른 넘파이 배열에서 자동으로 사칙 연산을 모든 행이나 열로 확장하여 수행하는 기능"
      ],
      "metadata": {
        "id": "WqLpWzT4fg5f"
      }
    },
    {
      "cell_type": "code",
      "source": [
        "# train_input의 모든 행에서 mean에 있는 두 평균값을 빼준 후 std에 있는 두 표준편차를 다시 모든 행에 적용한다.\n",
        "train_scaled = (train_input - mean) / std"
      ],
      "metadata": {
        "id": "NCl7-mvU4llg"
      },
      "execution_count": null,
      "outputs": []
    },
    {
      "cell_type": "markdown",
      "source": [
        "## **전처리 데이터로 모델 훈련하기**\n",
        "* 새로운 값 또한 scaling하여 입력해주어야 한다."
      ],
      "metadata": {
        "id": "RUZfoyepaYCf"
      }
    },
    {
      "cell_type": "code",
      "source": [
        "# 새로운 값을 동일한 비율로 변환해주지 않았을 때\n",
        "plt.scatter(train_scaled[:,0], train_scaled[:,1])\n",
        "plt.scatter(25, 150, marker = '^')\n",
        "plt.xlabel('length')\n",
        "plt.ylabel('weight')\n",
        "plt.show()"
      ],
      "metadata": {
        "colab": {
          "base_uri": "https://localhost:8080/",
          "height": 449
        },
        "id": "GGKZSEU0aVJN",
        "outputId": "ee1b7881-aa80-4c5c-abcd-b37b347c3523"
      },
      "execution_count": null,
      "outputs": [
        {
          "output_type": "display_data",
          "data": {
            "text/plain": [
              "<Figure size 640x480 with 1 Axes>"
            ],
            "image/png": "[encoded data removed]"
          },
          "metadata": {}
        }
      ]
    },
    {
      "cell_type": "markdown",
      "source": [
        "* 중요한 것은 새로운 값을 scaling할 때 **훈련 세트의 mean과 std**를 이용해서 변환해야 한다는 점!"
      ],
      "metadata": {
        "id": "8B17yQwQb43H"
      }
    },
    {
      "cell_type": "code",
      "source": [
        "new = ([25, 125] - mean) / std\n",
        "plt.scatter(train_scaled[:,0], train_scaled[:, 1])\n",
        "plt.scatter(new[0], new[1], marker = '^')\n",
        "plt.xlabel('length')\n",
        "plt.ylabel('weight')\n",
        "plt.show()"
      ],
      "metadata": {
        "colab": {
          "base_uri": "https://localhost:8080/",
          "height": 449
        },
        "id": "B2g_t_Dea_yd",
        "outputId": "ba1ea8e7-f17f-47c6-d7de-1d022a21d723"
      },
      "execution_count": null,
      "outputs": [
        {
          "output_type": "display_data",
          "data": {
            "text/plain": [
              "<Figure size 640x480 with 1 Axes>"
            ],
            "image/png": "[encoded data removed]"
          },
          "metadata": {}
        }
      ]
    },
    {
      "cell_type": "code",
      "source": [
        "# scaled data를 이용해 다시 모델 훈련하기\n",
        "kn.fit(train_scaled, train_target)"
      ],
      "metadata": {
        "colab": {
          "base_uri": "https://localhost:8080/",
          "height": 74
        },
        "id": "CoP56vE1bkAo",
        "outputId": "6c40288a-896a-4586-9b77-fc7f4aa0958d"
      },
      "execution_count": null,
      "outputs": [
        {
          "output_type": "execute_result",
          "data": {
            "text/plain": [
              "KNeighborsClassifier()"
            ],
            "text/html": [
              "<style>#sk-container-id-1 {color: black;background-color: white;}#sk-container-id-1 pre{padding: 0;}#sk-container-id-1 div.sk-toggleable {background-color: white;}#sk-container-id-1 label.sk-toggleable__label {cursor: pointer;display: block;width: 100%;margin-bottom: 0;padding: 0.3em;box-sizing: border-box;text-align: center;}#sk-container-id-1 label.sk-toggleable__label-arrow:before {content: \"▸\";float: left;margin-right: 0.25em;color: #696969;}#sk-container-id-1 label.sk-toggleable__label-arrow:hover:before {color: black;}#sk-container-id-1 div.sk-estimator:hover label.sk-toggleable__label-arrow:before {color: black;}#sk-container-id-1 div.sk-toggleable__content {max-height: 0;max-width: 0;overflow: hidden;text-align: left;background-color: #f0f8ff;}#sk-container-id-1 div.sk-toggleable__content pre {margin: 0.2em;color: black;border-radius: 0.25em;background-color: #f0f8ff;}#sk-container-id-1 input.sk-toggleable__control:checked~div.sk-toggleable__content {max-height: 200px;max-width: 100%;overflow: auto;}#sk-container-id-1 input.sk-toggleable__control:checked~label.sk-toggleable__label-arrow:before {content: \"▾\";}#sk-container-id-1 div.sk-estimator input.sk-toggleable__control:checked~label.sk-toggleable__label {background-color: #d4ebff;}#sk-container-id-1 div.sk-label input.sk-toggleable__control:checked~label.sk-toggleable__label {background-color: #d4ebff;}#sk-container-id-1 input.sk-hidden--visually {border: 0;clip: rect(1px 1px 1px 1px);clip: rect(1px, 1px, 1px, 1px);height: 1px;margin: -1px;overflow: hidden;padding: 0;position: absolute;width: 1px;}#sk-container-id-1 div.sk-estimator {font-family: monospace;background-color: #f0f8ff;border: 1px dotted black;border-radius: 0.25em;box-sizing: border-box;margin-bottom: 0.5em;}#sk-container-id-1 div.sk-estimator:hover {background-color: #d4ebff;}#sk-container-id-1 div.sk-parallel-item::after {content: \"\";width: 100%;border-bottom: 1px solid gray;flex-grow: 1;}#sk-container-id-1 div.sk-label:hover label.sk-toggleable__label {background-color: #d4ebff;}#sk-container-id-1 div.sk-serial::before {content: \"\";position: absolute;border-left: 1px solid gray;box-sizing: border-box;top: 0;bottom: 0;left: 50%;z-index: 0;}#sk-container-id-1 div.sk-serial {display: flex;flex-direction: column;align-items: center;background-color: white;padding-right: 0.2em;padding-left: 0.2em;position: relative;}#sk-container-id-1 div.sk-item {position: relative;z-index: 1;}#sk-container-id-1 div.sk-parallel {display: flex;align-items: stretch;justify-content: center;background-color: white;position: relative;}#sk-container-id-1 div.sk-item::before, #sk-container-id-1 div.sk-parallel-item::before {content: \"\";position: absolute;border-left: 1px solid gray;box-sizing: border-box;top: 0;bottom: 0;left: 50%;z-index: -1;}#sk-container-id-1 div.sk-parallel-item {display: flex;flex-direction: column;z-index: 1;position: relative;background-color: white;}#sk-container-id-1 div.sk-parallel-item:first-child::after {align-self: flex-end;width: 50%;}#sk-container-id-1 div.sk-parallel-item:last-child::after {align-self: flex-start;width: 50%;}#sk-container-id-1 div.sk-parallel-item:only-child::after {width: 0;}#sk-container-id-1 div.sk-dashed-wrapped {border: 1px dashed gray;margin: 0 0.4em 0.5em 0.4em;box-sizing: border-box;padding-bottom: 0.4em;background-color: white;}#sk-container-id-1 div.sk-label label {font-family: monospace;font-weight: bold;display: inline-block;line-height: 1.2em;}#sk-container-id-1 div.sk-label-container {text-align: center;}#sk-container-id-1 div.sk-container {/* jupyter's `normalize.less` sets `[hidden] { display: none; }` but bootstrap.min.css set `[hidden] { display: none !important; }` so we also need the `!important` here to be able to override the default hidden behavior on the sphinx rendered scikit-learn.org. See: https://github.com/scikit-learn/scikit-learn/issues/21755 */display: inline-block !important;position: relative;}#sk-container-id-1 div.sk-text-repr-fallback {display: none;}</style><div id=\"sk-container-id-1\" class=\"sk-top-container\"><div class=\"sk-text-repr-fallback\"><pre>KNeighborsClassifier()</pre><b>In a Jupyter environment, please rerun this cell to show the HTML representation or trust the notebook. <br />On GitHub, the HTML representation is unable to render, please try loading this page with nbviewer.org.</b></div><div class=\"sk-container\" hidden><div class=\"sk-item\"><div class=\"sk-estimator sk-toggleable\"><input class=\"sk-toggleable__control sk-hidden--visually\" id=\"sk-estimator-id-1\" type=\"checkbox\" checked><label for=\"sk-estimator-id-1\" class=\"sk-toggleable__label sk-toggleable__label-arrow\">KNeighborsClassifier</label><div class=\"sk-toggleable__content\"><pre>KNeighborsClassifier()</pre></div></div></div></div></div>"
            ]
          },
          "metadata": {},
          "execution_count": 52
        }
      ]
    },
    {
      "cell_type": "markdown",
      "source": [
        "* 마찬가지로 테스트 세트도 **훈련 세트의 평균과 표준편차**로 변환해야 한다. 그렇지 않으면 특성값이 엉뚱하게 변환될 것이고, 훈련 세트로 훈련한 모델이 제대로 동작하지 않을 것입니다."
      ],
      "metadata": {
        "id": "nYrrWaTdcUna"
      }
    },
    {
      "cell_type": "code",
      "source": [
        "test_scaled  = (test_input - mean)/std"
      ],
      "metadata": {
        "id": "cCayfQoDcPuI"
      },
      "execution_count": null,
      "outputs": []
    },
    {
      "cell_type": "code",
      "source": [
        "kn.score(test_scaled, test_target)"
      ],
      "metadata": {
        "colab": {
          "base_uri": "https://localhost:8080/"
        },
        "id": "nwhMV_d7clRz",
        "outputId": "29a20eb6-0cbc-4901-8d37-424441674aef"
      },
      "execution_count": null,
      "outputs": [
        {
          "output_type": "execute_result",
          "data": {
            "text/plain": [
              "1.0"
            ]
          },
          "metadata": {},
          "execution_count": 54
        }
      ]
    },
    {
      "cell_type": "code",
      "source": [
        "print(kn.predict([new]))"
      ],
      "metadata": {
        "colab": {
          "base_uri": "https://localhost:8080/"
        },
        "id": "AlmACamLco0m",
        "outputId": "ccc404c0-bc41-46b5-fa36-f95a4eaa8a30"
      },
      "execution_count": null,
      "outputs": [
        {
          "output_type": "stream",
          "name": "stdout",
          "text": [
            "[1.]\n"
          ]
        }
      ]
    },
    {
      "cell_type": "markdown",
      "source": [
        "* 드디어 새로운 데이터를 도미로 예측했다. 이제 산점도를 그려 확인해보자. 특성을 표준점수로 바꾸었기 때문에 k-최근접 이웃 알고리즘이 올바르게 거리를 측정했을 것이다.\n"
      ],
      "metadata": {
        "id": "JG9n4PLfdW0g"
      }
    },
    {
      "cell_type": "code",
      "source": [
        "distances, indexes = kn.kneighbors([new])\n",
        "plt.scatter(train_scaled[:,0], train_scaled[:,1])\n",
        "plt.scatter(new[0], new[1], marker = '^')\n",
        "plt.scatter(train_scaled[indexes,0], train_scaled[indexes, 1], marker = \"D\")\n",
        "plt.xlabel('length')\n",
        "plt.ylabel(\"weight\")\n",
        "plt.show()"
      ],
      "metadata": {
        "colab": {
          "base_uri": "https://localhost:8080/",
          "height": 449
        },
        "id": "KlI6cCSudR0V",
        "outputId": "0ef9f39e-6b71-44f3-9d3a-d15fb840f34f"
      },
      "execution_count": null,
      "outputs": [
        {
          "output_type": "display_data",
          "data": {
            "text/plain": [
              "<Figure size 640x480 with 1 Axes>"
            ],
            "image/png": "[encoded data removed]"
          },
          "metadata": {}
        }
      ]
    }
  ]
}